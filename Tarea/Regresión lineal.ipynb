{
 "cells": [
  {
   "cell_type": "code",
   "execution_count": null,
   "id": "66c23cb3",
   "metadata": {},
   "outputs": [],
   "source": [
    "import pandas as pd\n",
    "\n",
    "def read_csv_to_dataframe(file_path):\n",
    "    try:\n",
    "        df = pd.read_csv(file_path)\n",
    "        return df\n",
    "    except Exception as a:\n",
    "        print(\"Error reading the CSV file: {a}\")\n",
    "        return None"
   ]
  },
  {
   "cell_type": "code",
   "execution_count": null,
   "id": "69628682",
   "metadata": {},
   "outputs": [],
   "source": [
    "terminos_df = read_csv_to_dataframe(\"Terminos_lagoon_TA_DIC_2023_RawData.csv\")"
   ]
  },
  {
   "cell_type": "code",
   "execution_count": null,
   "id": "f0fcb73b",
   "metadata": {},
   "outputs": [],
   "source": [
    "print(terminos_df.head())"
   ]
  },
  {
   "cell_type": "code",
   "execution_count": null,
   "id": "56863107",
   "metadata": {},
   "outputs": [],
   "source": [
    "import matplotlib.pyplot as plt\n",
    "from scipy import stats\n",
    "\n",
    "x = terminos_df['ta_micromol_kg']\n",
    "y = terminos_df['dic_micromol_kg']\n",
    "\n",
    "plt.scatter(x, y, label='original data')\n",
    "\n",
    "# Add labels and title\n",
    "plt.xlabel('TA ($\\mu mol  \\; kg^{-1}$)', fontsize = 12, )\n",
    "plt.ylabel('DIC ($\\mu mol  \\; kg^{-1}$)', fontsize = 12)\n",
    "\n",
    "# Calculate the linear regression line\n",
    "slope, intercept, r_value, p_value, std_err = stats.linregress(x, y)\n",
    "\n",
    "# Plot linear regression \n",
    "\n",
    "plt.plot(x, intercept + slope*x, 'r', label='fitted line')\n",
    "\n",
    "# set the figure size\n",
    "plt.gcf().set_size_inches(6, 4)\n",
    "\n",
    "# save the plot as a PDF file paper format \n",
    "import os\n",
    "output_dir = '../output_files'\n",
    "os.makedirs(output_dir, exist_ok=True)\n",
    "plt.savefig(os.path.join(output_dir, 'DIC_TA_pH.pdf'), dpi=300, bbox_inches='tight')\n",
    "\n",
    "\n",
    "plt.show()\n",
    "\n",
    "print('Slope:', slope)"
   ]
  },
  {
   "cell_type": "code",
   "execution_count": null,
   "id": "dc481fde",
   "metadata": {},
   "outputs": [],
   "source": [
    "print(\"r-squared:\", r_value**2)\n",
    "print(\"p_value:\", p_value)\n",
    "print(\"slope:\", slope)\n",
    "print(\"intercept:\", intercept)"
   ]
  },
  {
   "cell_type": "code",
   "execution_count": 18,
   "id": "dc8379ba",
   "metadata": {},
   "outputs": [
    {
     "name": "stdout",
     "output_type": "stream",
     "text": [
      "                            OLS Regression Results                            \n",
      "==============================================================================\n",
      "Dep. Variable:        dic_micromol_kg   R-squared:                       0.778\n",
      "Model:                            OLS   Adj. R-squared:                  0.776\n",
      "Method:                 Least Squares   F-statistic:                     365.4\n",
      "Date:                Fri, 05 Sep 2025   Prob (F-statistic):           8.18e-36\n",
      "Time:                        23:19:59   Log-Likelihood:                -728.75\n",
      "No. Observations:                 106   AIC:                             1462.\n",
      "Df Residuals:                     104   BIC:                             1467.\n",
      "Df Model:                           1                                         \n",
      "Covariance Type:            nonrobust                                         \n",
      "==================================================================================\n",
      "                     coef    std err          t      P>|t|      [0.025      0.975]\n",
      "----------------------------------------------------------------------------------\n",
      "const             80.3061    144.021      0.558      0.578    -205.292     365.905\n",
      "ta_micromol_kg     0.9330      0.049     19.115      0.000       0.836       1.030\n",
      "==============================================================================\n",
      "Omnibus:                       62.113   Durbin-Watson:                   1.542\n",
      "Prob(Omnibus):                  0.000   Jarque-Bera (JB):              263.618\n",
      "Skew:                          -2.001   Prob(JB):                     5.70e-58\n",
      "Kurtosis:                       9.608   Cond. No.                     1.85e+04\n",
      "==============================================================================\n",
      "\n",
      "Notes:\n",
      "[1] Standard Errors assume that the covariance matrix of the errors is correctly specified.\n",
      "[2] The condition number is large, 1.85e+04. This might indicate that there are\n",
      "strong multicollinearity or other numerical problems.\n"
     ]
    }
   ],
   "source": [
    "import statsmodels.api as sm\n",
    "import numpy as np\n",
    "\n",
    "x = terminos_df['ta_micromol_kg']\n",
    "y = terminos_df['dic_micromol_kg']\n",
    "\n",
    "x = sm.add_constant(x)\n",
    "\n",
    "model = sm.OLS(y, x).fit()\n",
    "\n",
    "print(model.summary())"
   ]
  },
  {
   "cell_type": "code",
   "execution_count": null,
   "id": "db5d2b9a",
   "metadata": {},
   "outputs": [],
   "source": [
    "print(\"\\n=== MODEL INTERPRETATION ===\\n\")\n",
    "\n",
    "# R-squared and fit quality\n",
    "r2 = model.rsquared\n",
    "fit_quality = (\n",
    "    \"✔️ Good model fit: Explains most of the variance.\" if r2 >= 0.7 else\n",
    "    \"⚠️ Moderate model fit: Explains part of the variance.\" if r2 >= 0.4 else\n",
    "    \"❌ Weak model fit: Explains little variance. Review your model.\"\n",
    ")\n",
    "print(f\"R² = {r2:.3f}\\n{fit_quality}\")\n",
    "\n",
    "# Coefficients and p-values\n",
    "results = model.summary2().tables[1]\n",
    "slope_var = results.index.drop('const')[0]  # Assuming one predictor\n",
    "\n",
    "print(\"\\nCoefficients:\")\n",
    "for var, row in results.iterrows():\n",
    "    coef, pval = row['Coef.'], row['P>|t|']\n",
    "    significance = \"✔️ Significant (p < 0.05)\" if pval < 0.05 else \"⚠️ Not significant (p ≥ 0.05)\"\n",
    "    print(f\"- {var}: Coef = {coef:.4f}, p = {pval:.4f} → {significance}\")\n",
    "\n",
    "# Slope interpretation\n",
    "slope_coef, slope_pval = results.loc[slope_var, ['Coef.', 'P>|t|']]\n",
    "print(f\"\\nSlope ({slope_var}): {slope_coef:.4f}, p = {slope_pval:.4f} → \"\n",
    "      f\"{'✔️ Significant' if slope_pval < 0.05 else '⚠️ Not significant'}\")\n",
    "\n",
    "# Standard Error\n",
    "print(f\"\\nStandard Error of the model: {np.sqrt(model.scale):.4f}\")"
   ]
  },
  {
   "cell_type": "markdown",
   "id": "fcf4de99",
   "metadata": {},
   "source": [
    "# Linear regressions of salinity vs temperature"
   ]
  },
  {
   "cell_type": "code",
   "execution_count": null,
   "id": "8120b4df",
   "metadata": {},
   "outputs": [
    {
     "data": {
      "image/png": "[encoded data removed]",
      "text/plain": [
       "<Figure size 600x400 with 1 Axes>"
      ]
     },
     "metadata": {},
     "output_type": "display_data"
    },
    {
     "name": "stdout",
     "output_type": "stream",
     "text": [
      "Slope: -6.237079764689512\n"
     ]
    }
   ],
   "source": [
    "import matplotlib.pyplot as plt\n",
    "from scipy import stats\n",
    "\n",
    "x = terminos_df['temp_c']\n",
    "y = terminos_df['sal_psu']\n",
    "\n",
    "plt.scatter(x, y, label='original data')\n",
    "\n",
    "# Add labels and title\n",
    "plt.xlabel('temp (C)', fontsize = 12, )\n",
    "plt.ylabel('sal (psu)', fontsize = 12)\n",
    "\n",
    "# Calculate the linear regression line\n",
    "slope, intercept, r_value, p_value, std_err = stats.linregress(x, y)\n",
    "\n",
    "# Plot linear regression \n",
    "\n",
    "plt.plot(x, intercept + slope*x, 'r', label='fitted line')\n",
    "\n",
    "# set the figure size\n",
    "plt.gcf().set_size_inches(6, 4)\n",
    "\n",
    "# save the plot as a PDF file paper format \n",
    "import os\n",
    "output_dir = '../output_files'\n",
    "os.makedirs(output_dir, exist_ok=True)\n",
    "plt.savefig(os.path.join(output_dir, 'temp_sal_pH.pdf'), dpi=300, bbox_inches='tight')\n",
    "\n",
    "\n",
    "plt.show()\n",
    "\n",
    "print('Slope:', slope)"
   ]
  },
  {
   "cell_type": "code",
   "execution_count": 17,
   "id": "e069bd4c",
   "metadata": {},
   "outputs": [
    {
     "name": "stdout",
     "output_type": "stream",
     "text": [
      "r-squared: 0.32710473310227767\n",
      "p_value: 1.51441040237653e-10\n",
      "slope: -21.053197646779633\n",
      "intercept: 3162.874756459312\n"
     ]
    }
   ],
   "source": [
    "print(\"r-squared:\", r_value**2)\n",
    "print(\"p_value:\", p_value)\n",
    "print(\"slope:\", slope)\n",
    "print(\"intercept:\", intercept)"
   ]
  },
  {
   "cell_type": "code",
   "execution_count": null,
   "id": "89263920",
   "metadata": {},
   "outputs": [],
   "source": [
    "import statsmodels.api as sm\n",
    "import numpy as np\n",
    "\n",
    "x = terminos_df['temp_c']\n",
    "y = terminos_df['sal_psu']\n",
    "\n",
    "x = sm.add_constant(x)\n",
    "\n",
    "model = sm.OLS(y, x).fit()\n",
    "\n",
    "print(model.summary())"
   ]
  },
  {
   "cell_type": "code",
   "execution_count": null,
   "id": "849cc06c",
   "metadata": {},
   "outputs": [],
   "source": [
    "print(\"\\n=== MODEL INTERPRETATION ===\\n\")\n",
    "\n",
    "# R-squared and fit quality\n",
    "r2 = model.rsquared\n",
    "fit_quality = (\n",
    "    \"✔️ Good model fit: Explains most of the variance.\" if r2 >= 0.7 else\n",
    "    \"⚠️ Moderate model fit: Explains part of the variance.\" if r2 >= 0.4 else\n",
    "    \"❌ Weak model fit: Explains little variance. Review your model.\"\n",
    ")\n",
    "print(f\"R² = {r2:.3f}\\n{fit_quality}\")\n",
    "\n",
    "# Coefficients and p-values\n",
    "results = model.summary2().tables[1]\n",
    "slope_var = results.index.drop('const')[0]  # Assuming one predictor\n",
    "\n",
    "print(\"\\nCoefficients:\")\n",
    "for var, row in results.iterrows():\n",
    "    coef, pval = row['Coef.'], row['P>|t|']\n",
    "    significance = \"✔️ Significant (p < 0.05)\" if pval < 0.05 else \"⚠️ Not significant (p ≥ 0.05)\"\n",
    "    print(f\"- {var}: Coef = {coef:.4f}, p = {pval:.4f} → {significance}\")\n",
    "\n",
    "# Slope interpretation\n",
    "slope_coef, slope_pval = results.loc[slope_var, ['Coef.', 'P>|t|']]\n",
    "print(f\"\\nSlope ({slope_var}): {slope_coef:.4f}, p = {slope_pval:.4f} → \"\n",
    "      f\"{'✔️ Significant' if slope_pval < 0.05 else '⚠️ Not significant'}\")\n",
    "\n",
    "# Standard Error\n",
    "print(f\"\\nStandard Error of the model: {np.sqrt(model.scale):.4f}\")"
   ]
  },
  {
   "cell_type": "markdown",
   "id": "9f228562",
   "metadata": {},
   "source": [
    "# Linear regressions of dic vs salinity"
   ]
  },
  {
   "cell_type": "code",
   "execution_count": null,
   "id": "85f07134",
   "metadata": {},
   "outputs": [],
   "source": [
    "import matplotlib.pyplot as plt\n",
    "from scipy import stats\n",
    "\n",
    "x = terminos_df['sal_psu']\n",
    "y = terminos_df['dic_micromol_kg']\n",
    "\n",
    "plt.scatter(x, y, label='original data')\n",
    "\n",
    "# Add labels and title\n",
    "plt.xlabel('sal (psu)', fontsize = 12, )\n",
    "plt.ylabel('dic (micromol/kg)', fontsize = 12)\n",
    "\n",
    "# Calculate the linear regression line\n",
    "slope, intercept, r_value, p_value, std_err = stats.linregress(x, y)\n",
    "\n",
    "# Plot linear regression \n",
    "\n",
    "plt.plot(x, intercept + slope*x, 'r', label='fitted line')\n",
    "\n",
    "# set the figure size\n",
    "plt.gcf().set_size_inches(6, 4)\n",
    "\n",
    "# save the plot as a PDF file paper format \n",
    "import os\n",
    "output_dir = '../output_files'\n",
    "os.makedirs(output_dir, exist_ok=True)\n",
    "plt.savefig(os.path.join(output_dir, 'sal_dic_pH.pdf'), dpi=300, bbox_inches='tight')\n",
    "\n",
    "\n",
    "plt.show()\n",
    "\n",
    "print('Slope:', slope)"
   ]
  },
  {
   "cell_type": "code",
   "execution_count": 16,
   "id": "0b87ba2f",
   "metadata": {},
   "outputs": [
    {
     "name": "stdout",
     "output_type": "stream",
     "text": [
      "r-squared: 0.32710473310227767\n",
      "p_value: 1.51441040237653e-10\n",
      "slope: -21.053197646779633\n",
      "intercept: 3162.874756459312\n"
     ]
    }
   ],
   "source": [
    "print(\"r-squared:\", r_value**2)\n",
    "print(\"p_value:\", p_value)\n",
    "print(\"slope:\", slope)\n",
    "print(\"intercept:\", intercept)"
   ]
  },
  {
   "cell_type": "code",
   "execution_count": null,
   "id": "4a7a28ff",
   "metadata": {},
   "outputs": [],
   "source": [
    "import statsmodels.api as sm\n",
    "import numpy as np\n",
    "\n",
    "x = terminos_df['sal_psu']\n",
    "y = terminos_df['dic_micromol_kg']\n",
    "\n",
    "x = sm.add_constant(x)\n",
    "\n",
    "model = sm.OLS(y, x).fit()\n",
    "\n",
    "print(model.summary())"
   ]
  },
  {
   "cell_type": "code",
   "execution_count": 20,
   "id": "9b9a3069",
   "metadata": {},
   "outputs": [
    {
     "name": "stdout",
     "output_type": "stream",
     "text": [
      "\n",
      "=== MODEL INTERPRETATION ===\n",
      "\n",
      "R² = 0.778\n",
      "✔️ Good model fit: Explains most of the variance.\n",
      "\n",
      "Coefficients:\n",
      "- const: Coef = 80.3061, p = 0.5783 → ⚠️ Not significant (p ≥ 0.05)\n",
      "- ta_micromol_kg: Coef = 0.9330, p = 0.0000 → ✔️ Significant (p < 0.05)\n",
      "\n",
      "Slope (ta_micromol_kg): 0.9330, p = 0.0000 → ✔️ Significant\n",
      "\n",
      "Standard Error of the model: 236.4180\n"
     ]
    }
   ],
   "source": [
    "print(\"\\n=== MODEL INTERPRETATION ===\\n\")\n",
    "\n",
    "# R-squared and fit quality\n",
    "r2 = model.rsquared\n",
    "fit_quality = (\n",
    "    \"✔️ Good model fit: Explains most of the variance.\" if r2 >= 0.7 else\n",
    "    \"⚠️ Moderate model fit: Explains part of the variance.\" if r2 >= 0.4 else\n",
    "    \"❌ Weak model fit: Explains little variance. Review your model.\"\n",
    ")\n",
    "print(f\"R² = {r2:.3f}\\n{fit_quality}\")\n",
    "\n",
    "# Coefficients and p-values\n",
    "results = model.summary2().tables[1]\n",
    "slope_var = results.index.drop('const')[0]  # Assuming one predictor\n",
    "\n",
    "print(\"\\nCoefficients:\")\n",
    "for var, row in results.iterrows():\n",
    "    coef, pval = row['Coef.'], row['P>|t|']\n",
    "    significance = \"✔️ Significant (p < 0.05)\" if pval < 0.05 else \"⚠️ Not significant (p ≥ 0.05)\"\n",
    "    print(f\"- {var}: Coef = {coef:.4f}, p = {pval:.4f} → {significance}\")\n",
    "\n",
    "# Slope interpretation\n",
    "slope_coef, slope_pval = results.loc[slope_var, ['Coef.', 'P>|t|']]\n",
    "print(f\"\\nSlope ({slope_var}): {slope_coef:.4f}, p = {slope_pval:.4f} → \"\n",
    "      f\"{'✔️ Significant' if slope_pval < 0.05 else '⚠️ Not significant'}\")\n",
    "\n",
    "# Standard Error\n",
    "print(f\"\\nStandard Error of the model: {np.sqrt(model.scale):.4f}\")"
   ]
  }
 ],
 "metadata": {
  "kernelspec": {
   "display_name": "Python 3",
   "language": "python",
   "name": "python3"
  },
  "language_info": {
   "codemirror_mode": {
    "name": "ipython",
    "version": 3
   },
   "file_extension": ".py",
   "mimetype": "text/x-python",
   "name": "python",
   "nbconvert_exporter": "python",
   "pygments_lexer": "ipython3",
   "version": "3.10.18"
  }
 },
 "nbformat": 4,
 "nbformat_minor": 5
}
