{
 "cells": [
  {
   "cell_type": "markdown",
   "id": "183935d3",
   "metadata": {},
   "source": [
    "# IMPORTANTE: Esto solo es de guía, no aplica para el estudio"
   ]
  },
  {
   "cell_type": "code",
   "execution_count": 1,
   "id": "93a5fd82",
   "metadata": {},
   "outputs": [],
   "source": [
    "import pandas as pd\n",
    "\n",
    "def read_csv_to_dataframe(file_path):\n",
    "    try:\n",
    "        df = pd.read_csv(file_path)\n",
    "        return df\n",
    "    except Exception as a:\n",
    "        print(\"Error reading the CSV file: {a}\")\n",
    "        return None"
   ]
  },
  {
   "cell_type": "code",
   "execution_count": 2,
   "id": "68c7a862",
   "metadata": {},
   "outputs": [],
   "source": [
    "terminos_df = read_csv_to_dataframe(\"Terminos_lagoon_TA_DIC_2023_RawData.csv\")"
   ]
  },
  {
   "cell_type": "code",
   "execution_count": 3,
   "id": "26fb34c0",
   "metadata": {},
   "outputs": [
    {
     "name": "stdout",
     "output_type": "stream",
     "text": [
      "   sample      date     estuary   area station layer_depth season  \\\n",
      "0  CDL01S  5/3/2020  Candelaria  River   CDL01     Surface    Dry   \n",
      "1  CDL01F  5/3/2020  Candelaria  River   CDL01      Bottom    Dry   \n",
      "2  CDL02S  5/3/2020  Candelaria  River   CDL02     Surface    Dry   \n",
      "3  CDL02F  5/3/2020  Candelaria  River   CDL02      Bottom    Dry   \n",
      "4  CDL03S  5/3/2020  Candelaria  River   CDL03     Surface    Dry   \n",
      "\n",
      "   chlorophy_microg_l  cond_microsiemens_cm  depth_m  ...  do_mg_l  sal_psu  \\\n",
      "0                0.36                7015.4    0.464  ...     7.12     3.56   \n",
      "1                4.19               29886.1    7.792  ...     4.90    16.97   \n",
      "2                0.92               16691.1    0.453  ...     6.99     8.94   \n",
      "3                2.23               24847.4    1.261  ...     6.52    13.87   \n",
      "4                0.58               46341.6    0.465  ...     6.24    28.06   \n",
      "\n",
      "   sp_cond_microsiemens_cm  turbidity_fnu  temp_c  latitude  longitude  \\\n",
      "0                   6547.7           1.47  28.740  18.55736  -91.25012   \n",
      "1                  27751.2          95.33  29.028  18.55722  -91.24990   \n",
      "2                  15429.1           5.50  29.283  18.61007  -91.24410   \n",
      "3                  23074.0          13.44  29.024  18.61005  -91.24403   \n",
      "4                  43670.8           3.60  28.202  18.63166  -91.29359   \n",
      "\n",
      "   dic_micromol_kg  ta_micromol_kg  dummy_data  \n",
      "0             3915            3863      3685.0  \n",
      "1             3698            3685         NaN  \n",
      "2             3724            3708      3708.0  \n",
      "3             3667            3992      3992.0  \n",
      "4             2928            3023      3023.0  \n",
      "\n",
      "[5 rows x 21 columns]\n"
     ]
    }
   ],
   "source": [
    "print(terminos_df.head())"
   ]
  },
  {
   "cell_type": "code",
   "execution_count": 4,
   "id": "8c9446fa",
   "metadata": {},
   "outputs": [],
   "source": [
    "import statsmodels.api as sm\n",
    "from statsmodels.formula.api import ols\n",
    "from statsmodels.stats.multicomp import pairwise_tukeyhsd\n",
    "\n",
    "def two_way_anova_tukey(df, response, factor1, factor2, alpha=0.05):\n",
    "\n",
    "    # Fit the two-way ANOVA model and generate the ANOVA table\n",
    "    model = ols(f'{response} ~ C({factor1}) + C({factor2}) + C({factor1}):C({factor2})', data=df).fit()\n",
    "    anova_table = sm.stats.anova_lm(model, typ=2)\n",
    "    print(\"\\nANOVA Results:\\n\", anova_table)\n",
    "\n",
    "    # Run Tukey HSD post-hoc test if significant effects are found\n",
    "    if (anova_table['PR(>F)'] < alpha).any():\n",
    "        print(\"\\nSignificant effects detected. Running Tukey HSD post-hoc test:\")\n",
    "        df['Group'] = df[factor1].astype(str) + \" - \" + df[factor2].astype(str)\n",
    "        tukey = pairwise_tukeyhsd(df[response], df['Group'], alpha=alpha)\n",
    "        print(tukey.summary())\n",
    "    else:\n",
    "        print(\"\\nNo significant effects detected. Post-hoc test is not required.\")"
   ]
  },
  {
   "cell_type": "code",
   "execution_count": 5,
   "id": "b35d6066",
   "metadata": {},
   "outputs": [
    {
     "name": "stdout",
     "output_type": "stream",
     "text": [
      "\n",
      "ANOVA Results:\n",
      "                             sum_sq     df          F        PR(>F)\n",
      "C(season)             7.234655e+06    1.0  45.502782  9.393830e-10\n",
      "C(estuary)            9.238908e+03    1.0   0.058109  8.099945e-01\n",
      "C(season):C(estuary)  8.689347e+03    1.0   0.054652  8.156259e-01\n",
      "Residual              1.621735e+07  102.0        NaN           NaN\n",
      "\n",
      "Significant effects detected. Running Tukey HSD post-hoc test:\n",
      "               Multiple Comparison of Means - Tukey HSD, FWER=0.05               \n",
      "=================================================================================\n",
      "      group1             group2        meandiff p-adj    lower     upper   reject\n",
      "---------------------------------------------------------------------------------\n",
      "  Dry - Candelaria     Dry - Palizada   31.1111 0.9874 -214.3649  276.5871  False\n",
      "  Dry - Candelaria Rainy - Candelaria -539.7153 0.0001  -852.637 -226.7935   True\n",
      "  Dry - Candelaria   Rainy - Palizada -547.4444    0.0   -848.09 -246.7989   True\n",
      "    Dry - Palizada Rainy - Candelaria -570.8264    0.0 -883.7482 -257.9046   True\n",
      "    Dry - Palizada   Rainy - Palizada -578.5556    0.0 -879.2011   -277.91   True\n",
      "Rainy - Candelaria   Rainy - Palizada   -7.7292 0.9999 -365.5689  350.1106  False\n",
      "---------------------------------------------------------------------------------\n"
     ]
    }
   ],
   "source": [
    "two_way_anova_tukey(terminos_df, response=\"ta_micromol_kg\", factor1=\"season\", factor2=\"estuary\")"
   ]
  }
 ],
 "metadata": {
  "kernelspec": {
   "display_name": "Python 3",
   "language": "python",
   "name": "python3"
  },
  "language_info": {
   "codemirror_mode": {
    "name": "ipython",
    "version": 3
   },
   "file_extension": ".py",
   "mimetype": "text/x-python",
   "name": "python",
   "nbconvert_exporter": "python",
   "pygments_lexer": "ipython3",
   "version": "3.10.18"
  }
 },
 "nbformat": 4,
 "nbformat_minor": 5
}
