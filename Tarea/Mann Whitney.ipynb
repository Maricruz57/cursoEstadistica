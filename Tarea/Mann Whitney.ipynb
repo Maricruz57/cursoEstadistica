{
 "cells": [
  {
   "cell_type": "code",
   "execution_count": null,
   "id": "35c28dc7",
   "metadata": {},
   "outputs": [],
   "source": [
    "import pandas as pd\n",
    "\n",
    "def read_csv_to_dataframe(file_path):\n",
    "    try:\n",
    "        df = pd.read_csv(file_path)\n",
    "        return df\n",
    "    except Exception as a:\n",
    "        print(\"Error reading the CSV file: {a}\")\n",
    "        return None"
   ]
  },
  {
   "cell_type": "code",
   "execution_count": null,
   "id": "3883e351",
   "metadata": {},
   "outputs": [],
   "source": [
    "terminos_df = read_csv_to_dataframe(\"Terminos_lagoon_TA_DIC_2023_RawData.csv\")"
   ]
  },
  {
   "cell_type": "code",
   "execution_count": null,
   "id": "10d429b1",
   "metadata": {},
   "outputs": [],
   "source": [
    "print(terminos_df.head())"
   ]
  },
  {
   "cell_type": "code",
   "execution_count": null,
   "id": "cd6c9e4f",
   "metadata": {},
   "outputs": [],
   "source": [
    "from scipy.stats import mannwhitneyu\n",
    "\n",
    "def mann_whitney_test(data1, data2, alpha=0.01):\n",
    "\n",
    "    result = mannwhitneyu(data1, data2, alternative='two-sided')\n",
    "    \n",
    "    print(f\"U statistic = {result.statistic}\")\n",
    "    print(f\"p-value = {result.pvalue}\")\n",
    "\n",
    "    if result.pvalue < alpha:\n",
    "        print(\"La diferencia es significativa.\")\n",
    "    else:\n",
    "        print(\"La diferencia no es significativa\")"
   ]
  },
  {
   "cell_type": "code",
   "execution_count": null,
   "id": "2f8255ed",
   "metadata": {},
   "outputs": [],
   "source": [
    "import seaborn as sns\n",
    "import matplotlib.pyplot as plt\n",
    "\n",
    "# Create a box plot\n",
    "sns.boxplot(x='season', y='ta_micromol_kg', hue='season', data=terminos_df, palette=\"Set2\", legend=False)\n",
    "#sns.swarmplot(x='season', y='sal_psu', data=terminos_df, color=\".25\")\n",
    "#se agregó hue para que no me marque warning en una siguiente versión\n",
    "\n",
    "# Add labels and title\n",
    "plt.xlabel('Season')\n",
    "plt.ylabel('TA (μmol/kg)')\n",
    "plt.title('Box Plot of TA by Season')\n",
    "\n",
    "# Show the plot\n",
    "plt.show()"
   ]
  },
  {
   "cell_type": "code",
   "execution_count": null,
   "id": "51bf7d23",
   "metadata": {},
   "outputs": [],
   "source": [
    "# Filter the TA data by season\n",
    "ta_dry = terminos_df.loc[terminos_df[\"season\"] == \"Dry\", \"ta_micromol_kg\"]\n",
    "ta_rainy = terminos_df.loc[terminos_df[\"season\"] == \"Rainy\", \"ta_micromol_kg\"]\n",
    "\n",
    "# Perform the Mann-Whitney U test for TA between dry and rainy seasons\n",
    "mann_whitney_test(ta_dry, ta_rainy)"
   ]
  },
  {
   "cell_type": "code",
   "execution_count": null,
   "id": "9171cb70",
   "metadata": {},
   "outputs": [],
   "source": [
    "# Plot the box plot of TA by season\n",
    "import seaborn as sns\n",
    "import matplotlib.pyplot as plt\n",
    "\n",
    "# Create a box plot\n",
    "sns.boxplot(x='season', y='sal_psu', hue='season', data=terminos_df, palette=\"Set3\", legend=False)\n",
    "#sns.swarmplot(x='season', y='sal_psu', data=terminos_df, color=\".25\")\n",
    "\n",
    "# Add labels and title\n",
    "plt.xlabel('Season')\n",
    "plt.ylabel('salinity')\n",
    "plt.title('Box Plot of salinity by Season')\n",
    "\n",
    "# Show the plot\n",
    "plt.show()"
   ]
  },
  {
   "cell_type": "code",
   "execution_count": null,
   "id": "186af1d9",
   "metadata": {},
   "outputs": [],
   "source": [
    "# Filter the salinity data by season\n",
    "sal_dry = terminos_df.loc[terminos_df[\"season\"] == \"Dry\", \"sal_psu\"]\n",
    "sal_rainy = terminos_df.loc[terminos_df[\"season\"] == \"Rainy\", \"sal_psu\"]\n",
    "\n",
    "# Perform the Mann-Whitney U test for salinity between dry and rainy seasons\n",
    "mann_whitney_test(sal_dry, sal_rainy)"
   ]
  },
  {
   "cell_type": "code",
   "execution_count": null,
   "id": "a04a7475",
   "metadata": {},
   "outputs": [],
   "source": [
    "# Plot the box plot of salinity by season\n",
    "import seaborn as sns\n",
    "import matplotlib.pyplot as plt\n",
    "\n",
    "# Create a box plot\n",
    "sns.boxplot(x='season', y='sal_psu', hue='season', data=terminos_df, palette=\"Set3\", legend=False)\n",
    "sns.swarmplot(x='season', y='sal_psu', data=terminos_df, color=\".25\")\n",
    "\n",
    "# Add labels and title\n",
    "plt.xlabel('Season')\n",
    "plt.ylabel('Salinity (PSU)')\n",
    "plt.title('Box Plot of Salinity by Season')\n",
    "\n",
    "# Show the plot\n",
    "plt.show()\n"
   ]
  },
  {
   "cell_type": "code",
   "execution_count": null,
   "id": "904ab06b",
   "metadata": {},
   "outputs": [],
   "source": [
    "import seaborn as sns\n",
    "import matplotlib.pyplot as plt\n",
    "\n",
    "\n",
    "# Create a box plot\n",
    "sns.violinplot(x='season', y='sal_psu', hue='season', data=terminos_df, palette=\"Set3\", legend=False)\n",
    "\n",
    "plt.title('Salinity Distribution by Season')\n",
    "plt.xlabel('Season')\n",
    "plt.ylabel('Salinity (PSU)')\n",
    "plt.show()"
   ]
  },
  {
   "cell_type": "markdown",
   "id": "d5cb2c3e",
   "metadata": {},
   "source": [
    "# Mann-Whitney U test for DIC "
   ]
  },
  {
   "cell_type": "code",
   "execution_count": null,
   "id": "edc906b2",
   "metadata": {},
   "outputs": [],
   "source": [
    "# Plot the box plot of DIC by season\n",
    "import seaborn as sns\n",
    "import matplotlib.pyplot as plt\n",
    "\n",
    "# Create a box plot\n",
    "sns.boxplot(x='season', y='dic_micromol_kg', hue='season', data=terminos_df, palette=\"Set3\", legend=False)\n",
    "sns.swarmplot(x='season', y='dic_micromol_kg', data=terminos_df, color=\".25\")\n",
    "\n",
    "# Add labels and title\n",
    "plt.xlabel('Season')\n",
    "plt.ylabel('DIC (micromol/kg)')\n",
    "plt.title('Box Plot of DIC by Season')\n",
    "\n",
    "# Show the plot\n",
    "plt.show()\n"
   ]
  },
  {
   "cell_type": "code",
   "execution_count": null,
   "id": "5e7eec14",
   "metadata": {},
   "outputs": [],
   "source": [
    "dic_dry = terminos_df.loc[terminos_df[\"season\"] == \"Dry\", \"dic_micromol_kg\"]\n",
    "dic_rainy = terminos_df.loc[terminos_df[\"season\"] == \"Rainy\", \"dic_micromol_kg\"]\n",
    "\n",
    "# Perform the Mann-Whitney U test for dic between dry and rainy seasons\n",
    "mann_whitney_test(dic_dry, dic_rainy)"
   ]
  },
  {
   "cell_type": "code",
   "execution_count": null,
   "id": "8ba60e57",
   "metadata": {},
   "outputs": [],
   "source": [
    "import seaborn as sns\n",
    "import matplotlib.pyplot as plt\n",
    "\n",
    "\n",
    "# Create a box plot\n",
    "sns.violinplot(x='season', y='dic_micromol_kg', hue='season', data=terminos_df, palette=\"Set3\", legend=False)\n",
    "\n",
    "plt.title('DIC by Season')\n",
    "plt.xlabel('Season')\n",
    "plt.ylabel('DIC (micromol/kg)')\n",
    "plt.show()"
   ]
  },
  {
   "cell_type": "markdown",
   "id": "6e74565e",
   "metadata": {},
   "source": [
    "# Mann-Whitney U test for temperature"
   ]
  },
  {
   "cell_type": "code",
   "execution_count": null,
   "id": "46e40db2",
   "metadata": {},
   "outputs": [],
   "source": [
    "# Plot the box plot of Temperature by season\n",
    "import seaborn as sns\n",
    "import matplotlib.pyplot as plt\n",
    "\n",
    "# Create a box plot\n",
    "sns.boxplot(x='season', y='temp_c', hue='season', data=terminos_df, palette=\"Set3\", legend=False)\n",
    "sns.swarmplot(x='season', y='temp_c', data=terminos_df, color=\".25\")\n",
    "\n",
    "# Add labels and title\n",
    "plt.xlabel('Season')\n",
    "plt.ylabel('Temperature (C)')\n",
    "plt.title('Box Plot of Temperature by Season')\n",
    "\n",
    "# Show the plot\n",
    "plt.show()"
   ]
  },
  {
   "cell_type": "code",
   "execution_count": null,
   "id": "d6e50f16",
   "metadata": {},
   "outputs": [],
   "source": [
    "temperature_dry = terminos_df.loc[terminos_df[\"season\"] == \"Dry\", \"temp_c\"]\n",
    "temperature_rainy = terminos_df.loc[terminos_df[\"season\"] == \"Rainy\", \"temp_c\"]\n",
    "\n",
    "# Perform the Mann-Whitney U test for dic between dry and rainy seasons\n",
    "mann_whitney_test(temperature_dry, temperature_rainy)"
   ]
  },
  {
   "cell_type": "code",
   "execution_count": null,
   "id": "ce6646a0",
   "metadata": {},
   "outputs": [],
   "source": [
    "import seaborn as sns\n",
    "import matplotlib.pyplot as plt\n",
    "\n",
    "\n",
    "# Create a box plot\n",
    "sns.violinplot(x='season', y='temp_c', hue='season', data=terminos_df, palette=\"Set2\", legend=False)\n",
    "\n",
    "plt.title('Temperature by Season')\n",
    "plt.xlabel('Season')\n",
    "plt.ylabel('Temperature (C)')\n",
    "plt.show()"
   ]
  }
 ],
 "metadata": {
  "kernelspec": {
   "display_name": "Python 3",
   "language": "python",
   "name": "python3"
  },
  "language_info": {
   "codemirror_mode": {
    "name": "ipython",
    "version": 3
   },
   "file_extension": ".py",
   "mimetype": "text/x-python",
   "name": "python",
   "nbconvert_exporter": "python",
   "pygments_lexer": "ipython3",
   "version": "3.10.18"
  }
 },
 "nbformat": 4,
 "nbformat_minor": 5
}
