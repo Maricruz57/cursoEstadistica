{
 "cells": [
  {
   "cell_type": "markdown",
   "id": "5c3073da",
   "metadata": {},
   "source": [
    "# Apuntes de los videos"
   ]
  },
  {
   "cell_type": "code",
   "execution_count": 32,
   "id": "0edf061a",
   "metadata": {},
   "outputs": [],
   "source": [
    "import pandas as pd\n",
    "\n",
    "def read_csv_to_dataframe(file_path):\n",
    "    try:\n",
    "        df = pd.read_csv(file_path)\n",
    "        return df\n",
    "    except Exception as a:\n",
    "        print(\"Error reading the CSV file: {a}\")\n",
    "        return None\n",
    "        "
   ]
  },
  {
   "cell_type": "code",
   "execution_count": 33,
   "id": "f933f447",
   "metadata": {},
   "outputs": [],
   "source": [
    "terminos_df = read_csv_to_dataframe(\"Terminos_lagoon_TA_DIC_2023_RawData.csv\")"
   ]
  },
  {
   "cell_type": "code",
   "execution_count": 34,
   "id": "d1b27f15",
   "metadata": {},
   "outputs": [
    {
     "name": "stdout",
     "output_type": "stream",
     "text": [
      "   sample      date     estuary   area station layer_depth season  \\\n",
      "0  CDL01S  5/3/2020  Candelaria  River   CDL01     Surface    Dry   \n",
      "1  CDL01F  5/3/2020  Candelaria  River   CDL01      Bottom    Dry   \n",
      "2  CDL02S  5/3/2020  Candelaria  River   CDL02     Surface    Dry   \n",
      "3  CDL02F  5/3/2020  Candelaria  River   CDL02      Bottom    Dry   \n",
      "4  CDL03S  5/3/2020  Candelaria  River   CDL03     Surface    Dry   \n",
      "5  CDL03F  5/3/2020  Candelaria  River   CDL03      Bottom    Dry   \n",
      "6  CDL04S  5/3/2020  Candelaria  Plume   CDL04     Surface    Dry   \n",
      "7  CDL04F  5/3/2020  Candelaria  Plume   CDL04      Bottom    Dry   \n",
      "8  CDL05S  5/3/2020  Candelaria  Plume   CDL05     Surface    Dry   \n",
      "9  CDL05F  5/3/2020  Candelaria  Plume   CDL05      Bottom    Dry   \n",
      "\n",
      "   chlorophy_microg_l  cond_microsiemens_cm  depth_m  ...  do_mg_l  sal_psu  \\\n",
      "0                0.36                7015.4    0.464  ...     7.12     3.56   \n",
      "1                4.19               29886.1    7.792  ...     4.90    16.97   \n",
      "2                0.92               16691.1    0.453  ...     6.99     8.94   \n",
      "3                2.23               24847.4    1.261  ...     6.52    13.87   \n",
      "4                0.58               46341.6    0.465  ...     6.24    28.06   \n",
      "5               22.49               39453.4    1.867  ...     0.12    24.01   \n",
      "6                0.98               51682.3    0.474  ...     6.85    32.46   \n",
      "7                4.83               51790.8    2.779  ...     6.33    32.93   \n",
      "8                1.62               51497.0    0.442  ...     6.71    32.62   \n",
      "9               14.20               50724.7    3.373  ...     6.04    32.65   \n",
      "\n",
      "   sp_cond_microsiemens_cm  turbidity_fnu  temp_c  latitude  longitude  \\\n",
      "0                   6547.7           1.47  28.740  18.55736  -91.25012   \n",
      "1                  27751.2          95.33  29.028  18.55722  -91.24990   \n",
      "2                  15429.1           5.50  29.283  18.61007  -91.24410   \n",
      "3                  23074.0          13.44  29.024  18.61005  -91.24403   \n",
      "4                  43670.8           3.60  28.202  18.63166  -91.29359   \n",
      "5                  37919.1         108.11  27.118  18.63163  -91.29297   \n",
      "6                  49690.8           3.34  27.098  18.67964  -91.34973   \n",
      "7                  50319.5          14.24  26.531  18.67966  -91.34956   \n",
      "8                  49892.1           6.10  26.684  18.70429  -91.36858   \n",
      "9                  49905.6         283.23  25.859  18.70432  -91.36842   \n",
      "\n",
      "   dic_micromol_kg  ta_micromol_kg  dummy_data  \n",
      "0             3915            3863      3685.0  \n",
      "1             3698            3685         NaN  \n",
      "2             3724            3708      3708.0  \n",
      "3             3667            3992      3992.0  \n",
      "4             2928            3023      3023.0  \n",
      "5             2752            2849      2849.0  \n",
      "6             2672            2828      2828.0  \n",
      "7             2613            2818      2818.0  \n",
      "8             2652            2828      2828.0  \n",
      "9             2668            2840      2840.0  \n",
      "\n",
      "[10 rows x 21 columns]\n"
     ]
    }
   ],
   "source": [
    "print(terminos_df.head(10)) #para mostrar las primeras 10 filas\n"
   ]
  },
  {
   "cell_type": "code",
   "execution_count": 35,
   "id": "87e6cd90",
   "metadata": {},
   "outputs": [
    {
     "name": "stdout",
     "output_type": "stream",
     "text": [
      "<class 'pandas.core.frame.DataFrame'>\n",
      "RangeIndex: 106 entries, 0 to 105\n",
      "Data columns (total 21 columns):\n",
      " #   Column                   Non-Null Count  Dtype  \n",
      "---  ------                   --------------  -----  \n",
      " 0   sample                   106 non-null    object \n",
      " 1   date                     106 non-null    object \n",
      " 2   estuary                  106 non-null    object \n",
      " 3   area                     106 non-null    object \n",
      " 4   station                  106 non-null    object \n",
      " 5   layer_depth              106 non-null    object \n",
      " 6   season                   106 non-null    object \n",
      " 7   chlorophy_microg_l       106 non-null    float64\n",
      " 8   cond_microsiemens_cm     106 non-null    float64\n",
      " 9   depth_m                  106 non-null    float64\n",
      " 10  do_percent_sat           106 non-null    float64\n",
      " 11  do_mg_l                  106 non-null    float64\n",
      " 12  sal_psu                  106 non-null    float64\n",
      " 13  sp_cond_microsiemens_cm  106 non-null    float64\n",
      " 14  turbidity_fnu            106 non-null    float64\n",
      " 15  temp_c                   106 non-null    float64\n",
      " 16  latitude                 106 non-null    float64\n",
      " 17  longitude                106 non-null    float64\n",
      " 18  dic_micromol_kg          106 non-null    int64  \n",
      " 19  ta_micromol_kg           106 non-null    int64  \n",
      " 20  dummy_data               99 non-null     float64\n",
      "dtypes: float64(12), int64(2), object(7)\n",
      "memory usage: 17.5+ KB\n",
      "None\n"
     ]
    }
   ],
   "source": [
    "print(terminos_df.info())"
   ]
  },
  {
   "cell_type": "code",
   "execution_count": 36,
   "id": "1fd873d9",
   "metadata": {},
   "outputs": [
    {
     "name": "stdout",
     "output_type": "stream",
     "text": [
      "       chlorophy_microg_l  cond_microsiemens_cm     depth_m  do_percent_sat  \\\n",
      "count          106.000000            106.000000  106.000000      106.000000   \n",
      "mean             6.545472          27895.183962    1.830160       89.515094   \n",
      "std             14.941262          20931.232513    2.038739       29.772291   \n",
      "min              0.360000             13.800000    0.105000        1.700000   \n",
      "25%              2.555000           1778.025000    0.428750       84.575000   \n",
      "50%              3.705000          33202.600000    0.638500       97.100000   \n",
      "75%              5.925000          47046.650000    2.883250      105.300000   \n",
      "max            150.900000          59988.600000    8.558000      174.100000   \n",
      "\n",
      "          do_mg_l     sal_psu  sp_cond_microsiemens_cm  turbidity_fnu  \\\n",
      "count  106.000000  106.000000               106.000000     106.000000   \n",
      "mean     6.474340   17.331981             27126.980189     100.429623   \n",
      "std      2.104254   13.578980             20527.530804     290.290113   \n",
      "min      0.120000    0.000000                13.700000       0.880000   \n",
      "25%      5.632500    0.857500              1706.875000       5.950000   \n",
      "50%      6.940000   19.760000             31803.250000      19.090000   \n",
      "75%      7.722500   30.297500             46668.975000      54.762500   \n",
      "max     11.660000   38.780000             58105.000000    2422.930000   \n",
      "\n",
      "           temp_c    latitude   longitude  dic_micromol_kg  ta_micromol_kg  \\\n",
      "count  106.000000  106.000000  106.000000       106.000000      106.000000   \n",
      "mean    26.758755   18.615912  -91.602783      2797.981132     2912.915094   \n",
      "std      0.917242    0.112832    0.240359       499.852416      472.694346   \n",
      "min     24.470000   18.424030  -91.902180      2152.000000     2357.000000   \n",
      "25%     26.062000   18.535825  -91.809810      2452.250000     2585.500000   \n",
      "50%     26.806000   18.610050  -91.786895      2646.500000     2823.000000   \n",
      "75%     27.153250   18.698798  -91.367565      2963.250000     3053.750000   \n",
      "max     29.283000   18.821780  -91.244000      4324.000000     4307.000000   \n",
      "\n",
      "        dummy_data  \n",
      "count    99.000000  \n",
      "mean   2902.888889  \n",
      "std     473.698989  \n",
      "min    2357.000000  \n",
      "25%    2561.500000  \n",
      "50%    2814.000000  \n",
      "75%    3029.000000  \n",
      "max    4307.000000  \n"
     ]
    }
   ],
   "source": [
    " print(terminos_df.describe())"
   ]
  },
  {
   "cell_type": "code",
   "execution_count": 37,
   "id": "c3a72399",
   "metadata": {},
   "outputs": [
    {
     "name": "stdout",
     "output_type": "stream",
     "text": [
      "Index(['sample', 'date', 'estuary', 'area', 'station', 'layer_depth', 'season',\n",
      "       'chlorophy_microg_l', 'cond_microsiemens_cm', 'depth_m',\n",
      "       'do_percent_sat', 'do_mg_l', 'sal_psu', 'sp_cond_microsiemens_cm',\n",
      "       'turbidity_fnu', 'temp_c', 'latitude', 'longitude', 'dic_micromol_kg',\n",
      "       'ta_micromol_kg', 'dummy_data'],\n",
      "      dtype='object')\n"
     ]
    }
   ],
   "source": [
    "print(terminos_df.columns)"
   ]
  },
  {
   "cell_type": "markdown",
   "id": "f6aa8eda",
   "metadata": {},
   "source": [
    "# Tarea"
   ]
  },
  {
   "cell_type": "markdown",
   "id": "667c9455",
   "metadata": {},
   "source": [
    "*Create a new column called \"TA_DIC_ratio\" that is the ratio of TA to DIC*"
   ]
  },
  {
   "cell_type": "code",
   "execution_count": 38,
   "id": "f12bb25d",
   "metadata": {},
   "outputs": [],
   "source": [
    "def read_csv_and_add_ratio(file_path):\n",
    "    try:\n",
    "        df = pd.read_csv(file_path)\n",
    "        # Aquí estoy creando una nueva columna\n",
    "        df[\"TA_DIC_ratio\"] = df[\"ta_micromol_kg\"] / df[\"dic_micromol_kg\"]\n",
    "        return df\n",
    "    except Exception as e:\n",
    "        print(f\"Error: {e}\")\n",
    "        return None\n"
   ]
  },
  {
   "cell_type": "code",
   "execution_count": 39,
   "id": "9d279610",
   "metadata": {},
   "outputs": [],
   "source": [
    "ratio_df = read_csv_and_add_ratio(\"Terminos_lagoon_TA_DIC_2023_RawData.csv\")"
   ]
  },
  {
   "cell_type": "code",
   "execution_count": 40,
   "id": "ac0752ad",
   "metadata": {},
   "outputs": [
    {
     "name": "stdout",
     "output_type": "stream",
     "text": [
      "   sample      date     estuary   area station layer_depth season  \\\n",
      "0  CDL01S  5/3/2020  Candelaria  River   CDL01     Surface    Dry   \n",
      "1  CDL01F  5/3/2020  Candelaria  River   CDL01      Bottom    Dry   \n",
      "2  CDL02S  5/3/2020  Candelaria  River   CDL02     Surface    Dry   \n",
      "3  CDL02F  5/3/2020  Candelaria  River   CDL02      Bottom    Dry   \n",
      "4  CDL03S  5/3/2020  Candelaria  River   CDL03     Surface    Dry   \n",
      "\n",
      "   chlorophy_microg_l  cond_microsiemens_cm  depth_m  ...  sal_psu  \\\n",
      "0                0.36                7015.4    0.464  ...     3.56   \n",
      "1                4.19               29886.1    7.792  ...    16.97   \n",
      "2                0.92               16691.1    0.453  ...     8.94   \n",
      "3                2.23               24847.4    1.261  ...    13.87   \n",
      "4                0.58               46341.6    0.465  ...    28.06   \n",
      "\n",
      "   sp_cond_microsiemens_cm  turbidity_fnu  temp_c  latitude  longitude  \\\n",
      "0                   6547.7           1.47  28.740  18.55736  -91.25012   \n",
      "1                  27751.2          95.33  29.028  18.55722  -91.24990   \n",
      "2                  15429.1           5.50  29.283  18.61007  -91.24410   \n",
      "3                  23074.0          13.44  29.024  18.61005  -91.24403   \n",
      "4                  43670.8           3.60  28.202  18.63166  -91.29359   \n",
      "\n",
      "   dic_micromol_kg  ta_micromol_kg  dummy_data  TA_DIC_ratio  \n",
      "0             3915            3863      3685.0      0.986718  \n",
      "1             3698            3685         NaN      0.996485  \n",
      "2             3724            3708      3708.0      0.995704  \n",
      "3             3667            3992      3992.0      1.088628  \n",
      "4             2928            3023      3023.0      1.032445  \n",
      "\n",
      "[5 rows x 22 columns]\n"
     ]
    }
   ],
   "source": [
    "print(ratio_df.head())"
   ]
  },
  {
   "cell_type": "markdown",
   "id": "a79e5cdd",
   "metadata": {},
   "source": [
    "*Calculate the mean and standard deviation of the \"TA_DIC_ratio\" for each season*"
   ]
  },
  {
   "cell_type": "code",
   "execution_count": 41,
   "id": "c8322857",
   "metadata": {},
   "outputs": [],
   "source": [
    "def analyze_ta_dic_ratio(file_path):\n",
    "    try:\n",
    "        # Aquí se define como calcular la media y desviación estándar de la relación TA_DIC_ratio por estación\n",
    "        summary = ratio_df.groupby(\"season\")[\"TA_DIC_ratio\"].agg([\"mean\", \"std\"]).reset_index()\n",
    "\n",
    "        return ratio_df, summary\n",
    "    except Exception as e:\n",
    "        print(f\"Error: {e}\")\n",
    "        return None, None"
   ]
  },
  {
   "cell_type": "code",
   "execution_count": 42,
   "id": "19437801",
   "metadata": {},
   "outputs": [
    {
     "name": "stdout",
     "output_type": "stream",
     "text": [
      "\n",
      "Mean and standard deviation by season:\n",
      "  season      mean       std\n",
      "0    Dry  1.058558  0.086111\n",
      "1  Rainy  1.022350  0.100924\n"
     ]
    }
   ],
   "source": [
    "data, season_stats = analyze_ta_dic_ratio(\"Terminos_lagoon_TA_DIC_2023_RawData.csv\")\n",
    "\n",
    "print(\"\\nMean and standard deviation by season:\")\n",
    "print(season_stats)"
   ]
  },
  {
   "cell_type": "markdown",
   "id": "2b2daa16",
   "metadata": {},
   "source": [
    "*Calculate the mean and standard deviation of the \"TA_DIC_ratio\" for each season and area*"
   ]
  },
  {
   "cell_type": "code",
   "execution_count": 43,
   "id": "8acd47b8",
   "metadata": {},
   "outputs": [],
   "source": [
    "def analyze_ta_dic_ratio_by_season_area(file_path):\n",
    "    try:\n",
    "        # Definiendo para calcular media y desviación estándar por estación y área\n",
    "        summary = (\n",
    "            ratio_df.groupby([\"season\", \"area\"])[\"TA_DIC_ratio\"]\n",
    "              .agg([\"mean\", \"std\"])\n",
    "              .reset_index()\n",
    "        )\n",
    "\n",
    "        return ratio_df, summary\n",
    "    except Exception as e:\n",
    "        print(f\"Error: {e}\")\n",
    "        return None, None"
   ]
  },
  {
   "cell_type": "code",
   "execution_count": 44,
   "id": "d6dd301e",
   "metadata": {},
   "outputs": [
    {
     "name": "stdout",
     "output_type": "stream",
     "text": [
      "\n",
      "Mean and standard deviation by season and area:\n",
      "  season   area      mean       std\n",
      "0    Dry  Coast  1.115766  0.115033\n",
      "1    Dry  Plume  1.059687  0.035574\n",
      "2    Dry  River  1.000221  0.037747\n",
      "3  Rainy  Coast  1.090127  0.129658\n",
      "4  Rainy  Plume  1.025544  0.049222\n",
      "5  Rainy  River  0.945217  0.025084\n"
     ]
    }
   ],
   "source": [
    "data, season_area_stats = analyze_ta_dic_ratio_by_season_area(\"Terminos_lagoon_TA_DIC_2023_RawData.csv\")\n",
    "\n",
    "print(\"\\nMean and standard deviation by season and area:\")\n",
    "print(season_area_stats)"
   ]
  },
  {
   "cell_type": "markdown",
   "id": "f1c68f70",
   "metadata": {},
   "source": [
    "*Save the results to an Excel file called \"TA_DIC_Season_Areas.xlsx*"
   ]
  },
  {
   "cell_type": "code",
   "execution_count": null,
   "id": "f6af45aa",
   "metadata": {},
   "outputs": [],
   "source": [
    "def export_to_excel(file_path, output_file=\"TA_DIC_Season_Areas.xlsx\"):\n",
    "    try:\n",
    "        # Exportando el trabajo a excel\n",
    "        season_area_stats.to_excel(output_file, index=False)\n",
    "\n",
    "        print(f\"Summary saved to {output_file}\")\n",
    "        return ratio_df, season_area_stats\n",
    "    except Exception as e:\n",
    "        print(f\"Error: {e}\")\n",
    "        return None, None"
   ]
  },
  {
   "cell_type": "code",
   "execution_count": 46,
   "id": "0a726d1c",
   "metadata": {},
   "outputs": [
    {
     "name": "stdout",
     "output_type": "stream",
     "text": [
      "Summary saved to TA_DIC_Season_Areas1.xlsx\n",
      "\n",
      "Mean and standard deviation by season and area:\n",
      "  season   area      mean       std\n",
      "0    Dry  Coast  1.115766  0.115033\n",
      "1    Dry  Plume  1.059687  0.035574\n",
      "2    Dry  River  1.000221  0.037747\n",
      "3  Rainy  Coast  1.090127  0.129658\n",
      "4  Rainy  Plume  1.025544  0.049222\n",
      "5  Rainy  River  0.945217  0.025084\n"
     ]
    }
   ],
   "source": [
    "data, season_area_stats = export_to_excel(\"Terminos_lagoon_TA_DIC_2023_RawData.csv\")\n",
    "\n",
    "print(\"\\nMean and standard deviation by season and area:\")\n",
    "print(season_area_stats)"
   ]
  }
 ],
 "metadata": {
  "kernelspec": {
   "display_name": "Python 3",
   "language": "python",
   "name": "python3"
  },
  "language_info": {
   "codemirror_mode": {
    "name": "ipython",
    "version": 3
   },
   "file_extension": ".py",
   "mimetype": "text/x-python",
   "name": "python",
   "nbconvert_exporter": "python",
   "pygments_lexer": "ipython3",
   "version": "3.10.18"
  }
 },
 "nbformat": 4,
 "nbformat_minor": 5
}
