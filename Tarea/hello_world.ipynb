{
 "cells": [
  {
   "cell_type": "code",
   "execution_count": 13,
   "id": "25b287e0",
   "metadata": {},
   "outputs": [
    {
     "name": "stdout",
     "output_type": "stream",
     "text": [
      "Hello world\n"
     ]
    }
   ],
   "source": [
    "# Hola mundo\n",
    "print(\"Hello world\")\n"
   ]
  },
  {
   "cell_type": "code",
   "execution_count": 14,
   "id": "a618b28b",
   "metadata": {},
   "outputs": [
    {
     "name": "stdout",
     "output_type": "stream",
     "text": [
      "Suma:  5\n",
      "Resta:  -1\n",
      "Multiplicación:  6\n",
      "División:  0.6666666666666666\n"
     ]
    }
   ],
   "source": [
    "# Parte 2\n",
    "a = 2\n",
    "b = 3\n",
    "c = a + b\n",
    "print(\"Suma: \", c)\n",
    "print(\"Resta: \", a-b)\n",
    "print(\"Multiplicación: \", a*b)\n",
    "print(\"División: \", a/b)\n"
   ]
  }
 ],
 "metadata": {
  "kernelspec": {
   "display_name": "Python 3",
   "language": "python",
   "name": "python3"
  },
  "language_info": {
   "codemirror_mode": {
    "name": "ipython",
    "version": 3
   },
   "file_extension": ".py",
   "mimetype": "text/x-python",
   "name": "python",
   "nbconvert_exporter": "python",
   "pygments_lexer": "ipython3",
   "version": "3.10.18"
  }
 },
 "nbformat": 4,
 "nbformat_minor": 5
}
