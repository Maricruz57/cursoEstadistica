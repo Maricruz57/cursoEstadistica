{
 "cells": [
  {
   "cell_type": "code",
   "execution_count": null,
   "id": "580e1318",
   "metadata": {},
   "outputs": [],
   "source": [
    "import pandas as pd\n",
    "\n",
    "def read_csv_to_dataframe(file_path):\n",
    "    try:\n",
    "        df = pd.read_csv(file_path)\n",
    "        return df\n",
    "    except Exception as a:\n",
    "        print(\"Error reading the CSV file: {a}\")\n",
    "        return None"
   ]
  },
  {
   "cell_type": "code",
   "execution_count": null,
   "id": "922879af",
   "metadata": {},
   "outputs": [],
   "source": [
    "terminos_df = read_csv_to_dataframe(\"Terminos_lagoon_TA_DIC_2023_RawData.csv\")"
   ]
  },
  {
   "cell_type": "code",
   "execution_count": 29,
   "id": "eef17520",
   "metadata": {},
   "outputs": [
    {
     "name": "stdout",
     "output_type": "stream",
     "text": [
      "   sample      date     estuary   area station layer_depth season  \\\n",
      "0  CDL01S  5/3/2020  Candelaria  River   CDL01     Surface    Dry   \n",
      "1  CDL01F  5/3/2020  Candelaria  River   CDL01      Bottom    Dry   \n",
      "2  CDL02S  5/3/2020  Candelaria  River   CDL02     Surface    Dry   \n",
      "3  CDL02F  5/3/2020  Candelaria  River   CDL02      Bottom    Dry   \n",
      "4  CDL03S  5/3/2020  Candelaria  River   CDL03     Surface    Dry   \n",
      "\n",
      "   chlorophy_microg_l  cond_microsiemens_cm  depth_m  ...  do_mg_l  sal_psu  \\\n",
      "0                0.36                7015.4    0.464  ...     7.12     3.56   \n",
      "1                4.19               29886.1    7.792  ...     4.90    16.97   \n",
      "2                0.92               16691.1    0.453  ...     6.99     8.94   \n",
      "3                2.23               24847.4    1.261  ...     6.52    13.87   \n",
      "4                0.58               46341.6    0.465  ...     6.24    28.06   \n",
      "\n",
      "   sp_cond_microsiemens_cm  turbidity_fnu  temp_c  latitude  longitude  \\\n",
      "0                   6547.7           1.47  28.740  18.55736  -91.25012   \n",
      "1                  27751.2          95.33  29.028  18.55722  -91.24990   \n",
      "2                  15429.1           5.50  29.283  18.61007  -91.24410   \n",
      "3                  23074.0          13.44  29.024  18.61005  -91.24403   \n",
      "4                  43670.8           3.60  28.202  18.63166  -91.29359   \n",
      "\n",
      "   dic_micromol_kg  ta_micromol_kg  dummy_data  \n",
      "0             3915            3863      3685.0  \n",
      "1             3698            3685         NaN  \n",
      "2             3724            3708      3708.0  \n",
      "3             3667            3992      3992.0  \n",
      "4             2928            3023      3023.0  \n",
      "\n",
      "[5 rows x 21 columns]\n"
     ]
    }
   ],
   "source": [
    "print(terminos_df.head())"
   ]
  },
  {
   "cell_type": "code",
   "execution_count": null,
   "id": "0211b822",
   "metadata": {},
   "outputs": [],
   "source": [
    "from scipy.stats import kruskal\n",
    "\n",
    "def kruskal_wallis_test(*groups, alpha=0.05):\n",
    "\n",
    "    result = kruskal(*groups)\n",
    "    \n",
    "    print(f\"H statistic = {result.statistic}\")\n",
    "    print(f\"p-value = {result.pvalue}\")\n",
    "    \n",
    "    if result.pvalue < alpha:\n",
    "        print(\"The difference between groups is statistically significant.\")\n",
    "    else:\n",
    "        print(\"No statistically significant difference between groups.\")"
   ]
  },
  {
   "cell_type": "code",
   "execution_count": null,
   "id": "9758ae5b",
   "metadata": {},
   "outputs": [],
   "source": [
    "import scikit_posthocs as sp\n",
    "# You need to install the scikit-posthocs package: conda install -c conda-forge scikit-posthocs\n",
    "\n",
    "def dunn_posthoc(data, group_col, value_col, p_adjust='bonferroni'):\n",
    "    \"\"\"\n",
    "    Runs Dunn's post-hoc test after Kruskal-Wallis.\n",
    "    \"\"\"\n",
    "    result = sp.posthoc_dunn(data, val_col=value_col, group_col=group_col, p_adjust=p_adjust)\n",
    "    print(result)\n",
    "    return result"
   ]
  },
  {
   "cell_type": "code",
   "execution_count": null,
   "id": "52985984",
   "metadata": {},
   "outputs": [],
   "source": [
    "# Plot ta values for each area of the lagoon using seaborn\n",
    "import seaborn as sns\n",
    "import matplotlib.pyplot as plt\n",
    "\n",
    "sns.boxplot(x='area', y='ta_micromol_kg', data=terminos_df)\n",
    "plt.xlabel('Area of the lagoon')\n",
    "plt.ylabel('Total Alkalinity (micromol/kg)')\n",
    "plt.title('Total Alkalinity by Area of the Lagoon')\n",
    "plt.show()"
   ]
  },
  {
   "cell_type": "code",
   "execution_count": null,
   "id": "c349b3c1",
   "metadata": {},
   "outputs": [],
   "source": [
    "# Select the data for each area of the lagoon\n",
    "ta_river = terminos_df[terminos_df['area'] == 'River']['ta_micromol_kg']\n",
    "ta_plume = terminos_df[terminos_df['area'] == 'Plume']['ta_micromol_kg']\n",
    "ta_coast= terminos_df[terminos_df['area'] == 'Coast']['ta_micromol_kg']"
   ]
  },
  {
   "cell_type": "code",
   "execution_count": null,
   "id": "972da06d",
   "metadata": {},
   "outputs": [],
   "source": [
    "# Perform the Kruskal-Wallis test\n",
    "kruskal_wallis_test(ta_river, ta_plume, ta_coast)"
   ]
  },
  {
   "cell_type": "code",
   "execution_count": null,
   "id": "86a0b8bb",
   "metadata": {},
   "outputs": [],
   "source": [
    "dunn_posthoc(terminos_df, 'area', 'ta_micromol_kg')"
   ]
  },
  {
   "cell_type": "markdown",
   "id": "1a55cdef",
   "metadata": {},
   "source": [
    "# Perform Kruskal-Wallis test and plot a box plot for DIC"
   ]
  },
  {
   "cell_type": "code",
   "execution_count": null,
   "id": "756edaf2",
   "metadata": {},
   "outputs": [],
   "source": [
    "# Plot ta values for each area of the lagoon using seaborn\n",
    "import seaborn as sns\n",
    "import matplotlib.pyplot as plt\n",
    "\n",
    "sns.boxplot(x='area', y='dic_micromol_kg', hue='area', data=terminos_df, palette=\"Set3\", legend=False)\n",
    "plt.xlabel('Area of the lagoon')\n",
    "plt.ylabel('DIC (micromol/kg)')\n",
    "plt.title('DIC by Area of the Lagoon')\n",
    "plt.show()"
   ]
  },
  {
   "cell_type": "code",
   "execution_count": null,
   "id": "c400d065",
   "metadata": {},
   "outputs": [],
   "source": [
    "# Select the data for each area of the lagoon\n",
    "dic_river = terminos_df[terminos_df['area'] == 'River']['dic_micromol_kg']\n",
    "dic_plume = terminos_df[terminos_df['area'] == 'Plume']['dic_micromol_kg']\n",
    "dic_coast= terminos_df[terminos_df['area'] == 'Coast']['dic_micromol_kg']"
   ]
  },
  {
   "cell_type": "code",
   "execution_count": null,
   "id": "ae4184bc",
   "metadata": {},
   "outputs": [],
   "source": [
    "# Perform the Kruskal-Wallis test\n",
    "kruskal_wallis_test(dic_river, dic_plume, dic_coast)"
   ]
  },
  {
   "cell_type": "code",
   "execution_count": null,
   "id": "f191eb2b",
   "metadata": {},
   "outputs": [],
   "source": [
    "dunn_posthoc(terminos_df, 'area', 'dic_micromol_kg')"
   ]
  },
  {
   "cell_type": "markdown",
   "id": "4236b01c",
   "metadata": {},
   "source": [
    "# Perform Kruskal-Wallis test and plot a box plot for temperature"
   ]
  },
  {
   "cell_type": "code",
   "execution_count": null,
   "id": "d9edbbf3",
   "metadata": {},
   "outputs": [],
   "source": [
    "# Plot temperature values for each area of the lagoon using seaborn\n",
    "import seaborn as sns\n",
    "import matplotlib.pyplot as plt\n",
    "\n",
    "sns.boxplot(x='area', y='temp_c', hue='area', data=terminos_df, palette=\"Set3\", legend=False)\n",
    "plt.xlabel('Area of the lagoon')\n",
    "plt.ylabel('Temperature (C)')\n",
    "plt.title('Temperature by Area of the Lagoon')\n",
    "plt.show()"
   ]
  },
  {
   "cell_type": "code",
   "execution_count": null,
   "id": "89f68a39",
   "metadata": {},
   "outputs": [],
   "source": [
    "# Select the data for each area of the lagoon\n",
    "temp_river = terminos_df[terminos_df['area'] == 'River']['temp_c']\n",
    "temp_plume = terminos_df[terminos_df['area'] == 'Plume']['temp_c']\n",
    "temp_coast= terminos_df[terminos_df['area'] == 'Coast']['temp_c']"
   ]
  },
  {
   "cell_type": "code",
   "execution_count": null,
   "id": "934151e6",
   "metadata": {},
   "outputs": [],
   "source": [
    "# Perform the Kruskal-Wallis test\n",
    "kruskal_wallis_test(temp_river, temp_plume, temp_coast)"
   ]
  },
  {
   "cell_type": "code",
   "execution_count": null,
   "id": "f542ae44",
   "metadata": {},
   "outputs": [],
   "source": [
    "dunn_posthoc(terminos_df, 'area', 'temp_c')"
   ]
  }
 ],
 "metadata": {
  "kernelspec": {
   "display_name": "Python 3",
   "language": "python",
   "name": "python3"
  },
  "language_info": {
   "codemirror_mode": {
    "name": "ipython",
    "version": 3
   },
   "file_extension": ".py",
   "mimetype": "text/x-python",
   "name": "python",
   "nbconvert_exporter": "python",
   "pygments_lexer": "ipython3",
   "version": "3.10.18"
  }
 },
 "nbformat": 4,
 "nbformat_minor": 5
}
